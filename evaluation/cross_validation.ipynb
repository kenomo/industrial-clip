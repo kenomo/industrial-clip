{
 "cells": [
  {
   "cell_type": "code",
   "execution_count": null,
   "metadata": {
    "metadata": {}
   },
   "outputs": [],
   "source": [
    "import wandb\n",
    "import pandas as pd\n",
    "import matplotlib.pyplot as plt\n",
    "from matplotlib.legend_handler import HandlerLine2D\n",
    "import numpy as np\n",
    "from matplotlib.font_manager import FontProperties\n",
    "\n",
    "api = wandb.Api()"
   ]
  },
  {
   "cell_type": "code",
   "execution_count": null,
   "metadata": {
    "metadata": {}
   },
   "outputs": [],
   "source": [
    "import matplotlib.font_manager\n",
    "\n",
    "available_fonts = sorted([(f.name, f.variant) for f in matplotlib.font_manager.fontManager.ttflist])\n",
    "for (name, variant) in available_fonts:\n",
    "    print(name, variant)"
   ]
  },
  {
   "cell_type": "code",
   "execution_count": null,
   "metadata": {
    "metadata": {}
   },
   "outputs": [],
   "source": [
    "# replace with your W&B project name\n",
    "project_path = \"<<<W&B Project Name>>>\""
   ]
  },
  {
   "cell_type": "code",
   "execution_count": null,
   "metadata": {
    "metadata": {}
   },
   "outputs": [],
   "source": [
    "def get_means(run_regex, keys):\n",
    "    runs = api.runs(\n",
    "        path=project_path, \n",
    "        filters={\"display_name\": {\"$regex\": run_regex}}\n",
    "    )\n",
    "    data_frames = []\n",
    "    for run in runs:\n",
    "        \n",
    "        print(\"Found run: \", run.name)\n",
    "        history = run.history(keys=keys)\n",
    "        data_frames.append(history)\n",
    "\n",
    "    all_runs = pd.concat(data_frames, axis=1)\n",
    "    return all_runs.groupby(all_runs.columns, axis=1).mean()"
   ]
  },
  {
   "cell_type": "code",
   "execution_count": null,
   "metadata": {
    "metadata": {}
   },
   "outputs": [],
   "source": [
    "keys = [\n",
    "    \"train/acc\", \n",
    "    \"train/loss\",\n",
    "    \"test/top-1/acc\",\n",
    "    \"test/top-2/acc\",\n",
    "    \"test/top-3/acc\",\n",
    "    \"test/top-4/acc\",\n",
    "    \"test/top-5/acc\",\n",
    "]\n",
    "\n",
    "# replace first parameter with regex that matches the runs you want to cross-validate\n",
    "run = get_means(\"(<<<RUN NAME>>>)(\\d)\", keys)\n",
    "# run now contains the mean values of the runs that match the regex"
   ]
  },
  {
   "cell_type": "code",
   "execution_count": null,
   "metadata": {
    "metadata": {}
   },
   "outputs": [],
   "source": [
    "max(run[\"test/top-1/acc\"])"
   ]
  },
  {
   "cell_type": "code",
   "execution_count": null,
   "metadata": {
    "metadata": {}
   },
   "outputs": [],
   "source": [
    "max(run[\"test/top-1/acc\"])"
   ]
  }
 ],
 "metadata": {
  "kernelspec": {
   "display_name": "industrial-clip",
   "language": "python",
   "name": "python3"
  },
  "language_info": {
   "codemirror_mode": {
    "name": "ipython",
    "version": 3
   },
   "file_extension": ".py",
   "mimetype": "text/x-python",
   "name": "python",
   "nbconvert_exporter": "python",
   "pygments_lexer": "ipython3",
   "version": "3.8.19"
  }
 },
 "nbformat": 4,
 "nbformat_minor": 2
}
