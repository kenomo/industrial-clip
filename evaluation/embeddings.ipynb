{
 "cells": [
  {
   "cell_type": "code",
   "execution_count": null,
   "metadata": {},
   "outputs": [],
   "source": [
    "import numpy as np\n",
    "from sklearn.manifold import TSNE\n",
    "\n",
    "import matplotlib.pyplot as plt\n",
    "from matplotlib.font_manager import FontProperties"
   ]
  },
  {
   "cell_type": "code",
   "execution_count": null,
   "metadata": {},
   "outputs": [],
   "source": [
    "colors = []\n",
    "colors.append((23, 131, 232))\n",
    "colors.append((2, 38, 110))\n",
    "colors.append((185, 208, 241))\n",
    "colors.append((118, 205, 3))\n",
    "colors.append((162, 0, 0))\n",
    "colors = [tuple(np.array(c) / 255.0) for c in colors]"
   ]
  },
  {
   "cell_type": "code",
   "execution_count": null,
   "metadata": {},
   "outputs": [],
   "source": [
    "def tsne_embeddings(embeddings_path, sample_size=None, sample_labels=None):\n",
    "    embeddings = np.load(embeddings_path)\n",
    "    \n",
    "    print(\"Embeddings shape: \", embeddings.shape)\n",
    "\n",
    "    image_features = embeddings[:, 0:512]\n",
    "    text_features = embeddings[:, 512:1024]\n",
    "    labels = embeddings[:, 1024]\n",
    "\n",
    "    if sample_size is None and sample_labels is None:\n",
    "        sample_size = 1000\n",
    "    elif sample_labels is not None:\n",
    "        sample_size = len(sample_labels)\n",
    "    if sample_labels is None:\n",
    "        sample_labels = np.random.choice(labels, sample_size, replace=False)\n",
    "    print(\"Sample size: \", sample_size)\n",
    "    print(\"Sample labels size: \", len(sample_labels))\n",
    "\n",
    "    indices = np.where(np.in1d(labels, sample_labels))[0]\n",
    "    if len(indices) > sample_size:\n",
    "        indices = np.random.choice(indices, sample_size, replace=False)\n",
    "    print(\"Indices size: \", len(indices))\n",
    "\n",
    "    image_features = image_features[indices, :]\n",
    "    text_features = text_features[indices, :]\n",
    "    print(\"Image features: \", image_features.shape)\n",
    "    print(\"Text features: \", text_features.shape)\n",
    "\n",
    "    data = np.concatenate((image_features, text_features), axis=0)\n",
    "\n",
    "    x_embedded = TSNE(\n",
    "        n_components=2,\n",
    "        learning_rate=300,\n",
    "        init='pca',\n",
    "        perplexity=int(sample_size / 5),\n",
    "        metric='cosine'\n",
    "    ).fit_transform(data)\n",
    "    \n",
    "    print(\"TSNE image samples: \", x_embedded[0:sample_size].shape)\n",
    "    print(\"TSNE text samples: \", x_embedded[sample_size:].shape)\n",
    "    return x_embedded[0:sample_size, :], x_embedded[sample_size:, :], sample_size, labels[indices]"
   ]
  },
  {
   "cell_type": "code",
   "execution_count": null,
   "metadata": {},
   "outputs": [],
   "source": [
    "num_samples = 100"
   ]
  },
  {
   "cell_type": "code",
   "execution_count": null,
   "metadata": {},
   "outputs": [],
   "source": [
    "zsclip_embeddings = tsne_embeddings(\"/root/industrial-clip/output/zsclip/embeddings.npy\", sample_size=num_samples)"
   ]
  },
  {
   "cell_type": "code",
   "execution_count": null,
   "metadata": {},
   "outputs": [],
   "source": [
    "font = FontProperties()\n",
    "font.set_name('Arial')\n",
    "\n",
    "fig, axs = plt.subplots(1, 3, figsize=(30, 10))\n",
    "\n",
    "axs[0].set_title(\"Zero-shot CLIP\", fontproperties=font, fontweight='bold', fontsize=30, pad=9)\n",
    "axs[0].scatter(zsclip_embeddings[0][:, 0], zsclip_embeddings[0][:, 1], color=colors[0], marker='o', s=80)\n",
    "axs[0].scatter(zsclip_embeddings[1][:, 0], zsclip_embeddings[1][:, 1], color=colors[1], marker='x', s=80)\n",
    "\n",
    "# axs[1]. ...\n",
    "# axs[1]. ...\n",
    "# axs[1]. ...\n",
    "\n",
    "# axs[2]. ...\n",
    "# axs[2]. ...\n",
    "# axs[2]. ...\n",
    "\n",
    "axs[0].set_xticks([])\n",
    "axs[0].set_yticks([])\n",
    "axs[1].set_xticks([])\n",
    "axs[1].set_yticks([])\n",
    "axs[2].set_xticks([])\n",
    "axs[2].set_yticks([])\n",
    "\n",
    "axs[0].legend(['Image embeddings', 'Text embeddings'], fontsize=25, loc='upper left')\n",
    "\n",
    "fig.tight_layout(pad=0, h_pad=0.0, w_pad=1.0)"
   ]
  },
  {
   "cell_type": "code",
   "execution_count": null,
   "metadata": {},
   "outputs": [],
   "source": [
    "fig.subplots_adjust(bottom=0.0, top=0.94, left=00, right=1)\n",
    "fig.savefig(\"tsne.pdf\", format='pdf', transparent=True)"
   ]
  }
 ],
 "metadata": {
  "kernelspec": {
   "display_name": "industrial-clip",
   "language": "python",
   "name": "python3"
  },
  "language_info": {
   "codemirror_mode": {
    "name": "ipython",
    "version": 3
   },
   "file_extension": ".py",
   "mimetype": "text/x-python",
   "name": "python",
   "nbconvert_exporter": "python",
   "pygments_lexer": "ipython3",
   "version": "3.8.19"
  }
 },
 "nbformat": 4,
 "nbformat_minor": 2
}
