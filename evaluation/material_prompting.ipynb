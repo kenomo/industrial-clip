{
 "cells": [
  {
   "cell_type": "code",
   "execution_count": null,
   "metadata": {},
   "outputs": [],
   "source": [
    "import sys\n",
    "import torch\n",
    "\n",
    "sys.path.insert(0, \"../CLIP\")\n",
    "sys.path.append(\"..\")\n",
    "\n",
    "from industrial_clip.evaluation import Evaluation"
   ]
  },
  {
   "cell_type": "code",
   "execution_count": null,
   "metadata": {},
   "outputs": [],
   "source": [
    "prompts = [\n",
    "    \"steel\",\n",
    "    \"polyamide\",\n",
    "    \"thermoplastic\",\n",
    "    \"aluminum or aluminium\",\n",
    "    \"anodized aluminum or aluminium\",\n",
    "    \"plastic\",\n",
    "    \"brass\",\n",
    "]"
   ]
  },
  {
   "cell_type": "code",
   "execution_count": null,
   "metadata": {},
   "outputs": [],
   "source": [
    "cfg_list = [\n",
    "    \"TRAINER.ZSCLIP.PROMPT_TEMPLATE\", \"a photo of an industrial product with material {}\",\n",
    "]\n",
    "zeroshotclip = Evaluation(\"ZeroshotCLIP\", cfg_list, prompts)\n",
    "zeroshotclip.build()\n",
    "\n",
    "cfg_list = [\n",
    "    \"TRAINER.COOP.CTX_INIT\", \"X X X X a photo of an industrial product with material\",\n",
    "    \"TRAINER.COOP.CLASS_TOKEN_POSITION\", \"end\",\n",
    "]\n",
    "\n",
    "# set model, path to model, and epoch\n",
    "iclip = Evaluation(\n",
    "    \"CoOpIATA\", \n",
    "    cfg_list, \n",
    "    prompts, \n",
    "    model_dir=\"<<<path to model>>>\", \n",
    "    epoch=100\n",
    ")\n",
    "iclip.build()\n",
    "\n",
    "prompt_idx = list(range(len(prompts)))"
   ]
  },
  {
   "cell_type": "code",
   "execution_count": null,
   "metadata": {},
   "outputs": [],
   "source": [
    "images = [\n",
    "    \"data/material_a.png\",\n",
    "    \"data/material_b.png\",\n",
    "    \"data/material_c.png\",\n",
    "    \"data/material_d.png\",\n",
    "    \"data/material_e.png\",\n",
    "]"
   ]
  },
  {
   "cell_type": "code",
   "execution_count": null,
   "metadata": {},
   "outputs": [],
   "source": [
    "prompts"
   ]
  },
  {
   "cell_type": "code",
   "execution_count": null,
   "metadata": {},
   "outputs": [],
   "source": [
    "image_tensors = zeroshotclip.load_images(images)\n",
    "result = zeroshotclip.forward(image_tensors, prompt_idx)\n",
    "torch.set_printoptions(precision=3, sci_mode=False)\n",
    "print(result)"
   ]
  },
  {
   "cell_type": "code",
   "execution_count": null,
   "metadata": {},
   "outputs": [],
   "source": [
    "image_tensors = iclip.load_images(images)\n",
    "result = iclip.forward(image_tensors, prompt_idx)\n",
    "torch.set_printoptions(precision=3, sci_mode=False)\n",
    "print(result)"
   ]
  }
 ],
 "metadata": {
  "kernelspec": {
   "display_name": "industrial-clip",
   "language": "python",
   "name": "python3"
  },
  "language_info": {
   "codemirror_mode": {
    "name": "ipython",
    "version": 3
   },
   "file_extension": ".py",
   "mimetype": "text/x-python",
   "name": "python",
   "nbconvert_exporter": "python",
   "pygments_lexer": "ipython3",
   "version": "3.8.19"
  }
 },
 "nbformat": 4,
 "nbformat_minor": 2
}
