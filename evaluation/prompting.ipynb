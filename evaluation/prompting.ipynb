{
 "cells": [
  {
   "cell_type": "code",
   "execution_count": null,
   "metadata": {},
   "outputs": [],
   "source": [
    "import sys\n",
    "import torch\n",
    "\n",
    "sys.path.insert(0, \"../CLIP\")\n",
    "sys.path.append(\"..\")\n",
    "from industrial_clip.evaluation import Evaluation"
   ]
  },
  {
   "cell_type": "code",
   "execution_count": null,
   "metadata": {},
   "outputs": [],
   "source": [
    "prompts = [\n",
    "    \"cable\",\n",
    "    \"button\",\n",
    "    \"emergency stop switch\",\n",
    "    \"levelling feet round\",\n",
    "    \"vernier caliper\",\n",
    "    \"magnetic ball joint\",\n",
    "    \"corner bracket for aluminum profile\",\n",
    "    \"toothed belt pulley with square drive\",\n",
    "    \"axial joint\",\n",
    "    \"hinge\",\n",
    "    \"collet\",\n",
    "    \"metal plate\",\n",
    "    \"aluminium profile\",\n",
    "]"
   ]
  },
  {
   "cell_type": "code",
   "execution_count": null,
   "metadata": {},
   "outputs": [],
   "source": [
    "cfg_list = [\n",
    "    \"TRAINER.ZSCLIP.PROMPT_TEMPLATE\", \"a photo of an industrial product {}\",\n",
    "]\n",
    "zeroshotclip = Evaluation(\"ZeroshotCLIP\", cfg_list, prompts)\n",
    "zeroshotclip.build()\n",
    "\n",
    "cfg_list = [\n",
    "    \"TRAINER.COOP.CTX_INIT\", \"X X X X a photo of an industrial product\",\n",
    "    \"TRAINER.COOP.CLASS_TOKEN_POSITION\", \"end\",\n",
    "]\n",
    "\n",
    "# set model, path to model, and epoch\n",
    "iclip = Evaluation(\n",
    "    \"CoOpIATA\", \n",
    "    cfg_list, \n",
    "    prompts, \n",
    "    model_dir=\"<<<path to model>>>\", \n",
    "    epoch=100\n",
    ")\n",
    "iclip.build()"
   ]
  },
  {
   "cell_type": "code",
   "execution_count": null,
   "metadata": {},
   "outputs": [],
   "source": [
    "prompt_idx = list(range(len(prompts)))\n",
    "prompts"
   ]
  },
  {
   "cell_type": "code",
   "execution_count": null,
   "metadata": {},
   "outputs": [],
   "source": [
    "images = [\n",
    "    \"data/test_image.png\",\n",
    "]"
   ]
  },
  {
   "cell_type": "code",
   "execution_count": null,
   "metadata": {},
   "outputs": [],
   "source": [
    "#\n",
    "image_tensors = zeroshotclip.load_images(images)\n",
    "res_zeroshotclip = zeroshotclip.forward(image_tensors, prompt_idx)\n",
    "\n",
    "#\n",
    "image_tensors = iclip.load_images(images)\n",
    "res_iclip = iclip.forward(image_tensors, prompt_idx)"
   ]
  },
  {
   "cell_type": "code",
   "execution_count": null,
   "metadata": {},
   "outputs": [],
   "source": [
    "prompts"
   ]
  },
  {
   "cell_type": "code",
   "execution_count": null,
   "metadata": {},
   "outputs": [],
   "source": [
    "torch.set_printoptions(precision=2, sci_mode=False)\n",
    "print(res_zeroshotclip)\n",
    "print([prompts[i] for i in torch.topk(res_zeroshotclip[0].to(torch.float32), 4, dim=1)[1][0]])\n",
    "print(torch.topk(res_zeroshotclip[0].to(torch.float32), 4, dim=1)[0])"
   ]
  },
  {
   "cell_type": "code",
   "execution_count": null,
   "metadata": {},
   "outputs": [],
   "source": [
    "torch.set_printoptions(precision=2, sci_mode=False)\n",
    "print(res_iclip)\n",
    "print([prompts[i] for i in torch.topk(res_iclip[0].to(torch.float32), 4, dim=1)[1][0]])\n",
    "print(torch.topk(res_iclip[0].to(torch.float32), 4, dim=1)[0])"
   ]
  }
 ],
 "metadata": {
  "kernelspec": {
   "display_name": "industrial-clip",
   "language": "python",
   "name": "python3"
  },
  "language_info": {
   "codemirror_mode": {
    "name": "ipython",
    "version": 3
   },
   "file_extension": ".py",
   "mimetype": "text/x-python",
   "name": "python",
   "nbconvert_exporter": "python",
   "pygments_lexer": "ipython3",
   "version": "3.8.19"
  }
 },
 "nbformat": 4,
 "nbformat_minor": 2
}
